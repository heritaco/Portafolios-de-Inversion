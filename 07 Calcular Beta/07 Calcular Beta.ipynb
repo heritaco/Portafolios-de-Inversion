{
 "cells": [
  {
   "cell_type": "code",
   "execution_count": 1,
   "metadata": {},
   "outputs": [
    {
     "name": "stderr",
     "output_type": "stream",
     "text": [
      "[*********************100%%**********************]  1 of 1 completed\n",
      "[*********************100%%**********************]  1 of 1 completed\n"
     ]
    },
    {
     "name": "stdout",
     "output_type": "stream",
     "text": [
      "\n",
      "Análisis de la acción: NKE\n",
      "Covarianza muestral entre la acción y S&P 500: 0.0001286777052378674\n",
      "Varianza muestral de S&P 500: 0.0001244647742401509\n",
      "Varianza muestral de la acción: 0.00032961499695751144\n",
      "Beta de la acción: 1.0338483801817515\n",
      "Retorno total de la acción: 1.8058263953833844\n"
     ]
    },
    {
     "name": "stderr",
     "output_type": "stream",
     "text": [
      "[*********************100%%**********************]  1 of 1 completed\n",
      "[*********************100%%**********************]  1 of 1 completed\n"
     ]
    },
    {
     "name": "stdout",
     "output_type": "stream",
     "text": [
      "\n",
      "Análisis de la acción: DIS\n",
      "Covarianza muestral entre la acción y S&P 500: 0.00012407966554789875\n",
      "Varianza muestral de S&P 500: 0.0001244647742401509\n",
      "Varianza muestral de la acción: 0.0002976647114347027\n",
      "Beta de la acción: 0.9969058820489314\n",
      "Retorno total de la acción: 0.6591663181224316\n"
     ]
    },
    {
     "name": "stderr",
     "output_type": "stream",
     "text": [
      "[*********************100%%**********************]  1 of 1 completed\n",
      "[*********************100%%**********************]  1 of 1 completed\n"
     ]
    },
    {
     "name": "stdout",
     "output_type": "stream",
     "text": [
      "\n",
      "Análisis de la acción: MSFT\n",
      "Covarianza muestral entre la acción y S&P 500: 0.000150684117430239\n",
      "Varianza muestral de S&P 500: 0.0001244647742401509\n",
      "Varianza muestral de la acción: 0.0002889201190643332\n",
      "Beta de la acción: 1.2106567368169463\n",
      "Retorno total de la acción: 11.789586831918584\n"
     ]
    },
    {
     "name": "stderr",
     "output_type": "stream",
     "text": [
      "[*********************100%%**********************]  1 of 1 completed\n",
      "[*********************100%%**********************]  1 of 1 completed\n"
     ]
    },
    {
     "name": "stdout",
     "output_type": "stream",
     "text": [
      "\n",
      "Análisis de la acción: COST\n",
      "Covarianza muestral entre la acción y S&P 500: 9.017351875214071e-05\n",
      "Varianza muestral de S&P 500: 0.0001244647742401509\n",
      "Varianza muestral de la acción: 0.00018021270968418313\n",
      "Beta de la acción: 0.7244902768887341\n",
      "Retorno total de la acción: 6.947704602846746\n"
     ]
    },
    {
     "name": "stderr",
     "output_type": "stream",
     "text": [
      "[*********************100%%**********************]  1 of 1 completed\n",
      "[*********************100%%**********************]  1 of 1 completed\n"
     ]
    },
    {
     "name": "stdout",
     "output_type": "stream",
     "text": [
      "\n",
      "Análisis de la acción: AMZN\n",
      "Covarianza muestral entre la acción y S&P 500: 0.0001419457350961848\n",
      "Varianza muestral de S&P 500: 0.0001244647742401509\n",
      "Varianza muestral de la acción: 0.0004308843288450914\n",
      "Beta de la acción: 1.1404490624978352\n",
      "Retorno total de la acción: 10.710131851915742\n"
     ]
    },
    {
     "name": "stderr",
     "output_type": "stream",
     "text": [
      "[*********************100%%**********************]  1 of 1 completed\n",
      "[*********************100%%**********************]  1 of 1 completed\n"
     ]
    },
    {
     "name": "stdout",
     "output_type": "stream",
     "text": [
      "\n",
      "Análisis de la acción: AAPL\n",
      "Covarianza muestral entre la acción y S&P 500: 0.00014885107318145385\n",
      "Varianza muestral de S&P 500: 0.0001244647742401509\n",
      "Varianza muestral de la acción: 0.0003185985713307458\n",
      "Beta de la acción: 1.1959293228962142\n",
      "Retorno total de la acción: 9.303341045021178\n"
     ]
    },
    {
     "name": "stderr",
     "output_type": "stream",
     "text": [
      "[*********************100%%**********************]  1 of 1 completed\n",
      "[*********************100%%**********************]  1 of 1 completed\n"
     ]
    },
    {
     "name": "stdout",
     "output_type": "stream",
     "text": [
      "\n",
      "Análisis de la acción: TSLA\n",
      "Covarianza muestral entre la acción y S&P 500: 0.0001795752841168005\n",
      "Varianza muestral de S&P 500: 0.0001244647742401509\n",
      "Varianza muestral de la acción: 0.0012124843235088354\n",
      "Beta de la acción: 1.4427799770103273\n",
      "Retorno total de la acción: 11.993780263243808\n"
     ]
    },
    {
     "name": "stderr",
     "output_type": "stream",
     "text": [
      "[*********************100%%**********************]  1 of 1 completed\n",
      "[*********************100%%**********************]  1 of 1 completed\n"
     ]
    },
    {
     "name": "stdout",
     "output_type": "stream",
     "text": [
      "\n",
      "Análisis de la acción: NFLX\n",
      "Covarianza muestral entre la acción y S&P 500: 0.00014626430503904912\n",
      "Varianza muestral de S&P 500: 0.0001244647742401509\n",
      "Varianza muestral de la acción: 0.0007780210337001872\n",
      "Beta de la acción: 1.1751461884053773\n",
      "Retorno total de la acción: 11.92803241010164\n"
     ]
    },
    {
     "name": "stderr",
     "output_type": "stream",
     "text": [
      "[*********************100%%**********************]  1 of 1 completed\n",
      "[*********************100%%**********************]  1 of 1 completed\n"
     ]
    },
    {
     "name": "stdout",
     "output_type": "stream",
     "text": [
      "\n",
      "Análisis de la acción: GOOGL\n",
      "Covarianza muestral entre la acción y S&P 500: 0.00014272786603063034\n",
      "Varianza muestral de S&P 500: 0.0001244647742401509\n",
      "Varianza muestral de la acción: 0.0003102923249367497\n",
      "Beta de la acción: 1.146733016646472\n",
      "Retorno total de la acción: 4.729023838689983\n"
     ]
    },
    {
     "name": "stderr",
     "output_type": "stream",
     "text": [
      "[*********************100%%**********************]  1 of 1 completed\n",
      "[*********************100%%**********************]  1 of 1 completed\n"
     ]
    },
    {
     "name": "stdout",
     "output_type": "stream",
     "text": [
      "\n",
      "Análisis de la acción: SBUX\n",
      "Covarianza muestral entre la acción y S&P 500: 0.00012458452809866998\n",
      "Varianza muestral de S&P 500: 0.0001244647742401509\n",
      "Varianza muestral de la acción: 0.0002684295536357684\n",
      "Beta de la acción: 1.0009621506104853\n",
      "Retorno total de la acción: 1.9883000090381984\n"
     ]
    },
    {
     "name": "stderr",
     "output_type": "stream",
     "text": [
      "[*********************100%%**********************]  1 of 1 completed\n",
      "[*********************100%%**********************]  1 of 1 completed"
     ]
    },
    {
     "name": "stdout",
     "output_type": "stream",
     "text": [
      "\n",
      "Análisis de la acción: KO\n",
      "Covarianza muestral entre la acción y S&P 500: 7.567698761986967e-05\n",
      "Varianza muestral de S&P 500: 0.0001244647742401509\n",
      "Varianza muestral de la acción: 0.0001270809381960258\n",
      "Beta de la acción: 0.6080193217870085\n",
      "Retorno total de la acción: 1.109438535152043\n"
     ]
    },
    {
     "name": "stderr",
     "output_type": "stream",
     "text": [
      "\n"
     ]
    }
   ],
   "source": [
    "import yfinance as yf\n",
    "import numpy as np\n",
    "\n",
    "def beta(ticker, start_date, end_date):\n",
    "    # Descargar datos de la acción y S&P 500\n",
    "    stock = yf.download(ticker, start=start_date, end=end_date)\n",
    "    sp500 = yf.download('^GSPC', start=start_date, end=end_date)\n",
    "\n",
    "    # obtener el adj. close de la acción\n",
    "    stock_adj_close = stock['Adj Close']\n",
    "    sp500_adj_close = sp500['Adj Close']\n",
    "\n",
    "    # Alinear las fechas de ambos DataFrames usando precios ajustados\n",
    "    data_frame = stock_adj_close.align(sp500_adj_close, join='inner')\n",
    "\n",
    "    # Acceder a las columnas\n",
    "    stock_prices = data_frame[0]  # Precios ajustados de la acción\n",
    "    sp500_prices = data_frame[1]  # Precios ajustados de S&P 500\n",
    "\n",
    "    # Calcular rendimientos: (P_t+1 / P_t) - 1\n",
    "    stock_returns = (stock_prices[1:].values / stock_prices[:-1].values) - 1    # [1:] desde el segundo elemento hasta el final, [:-1] desde el primero hasta el penúltimo - 1\n",
    "    sp500_returns = (sp500_prices[1:].values / sp500_prices[:-1].values) - 1    # [1:] desde el segundo elemento hasta el final, [:-1] desde el primero hasta el penúltimo - 1\n",
    "\n",
    "    ## Así se calculan manual\n",
    "    # cov_stock_sp500 = sum((stock_returns - stock_returns.mean()) * (sp500_returns - sp500_returns.mean())) / (len(stock_returns) - 1)\n",
    "    # var_sp500 = sum((sp500_returns - sp500_returns.mean())**2) / (len(sp500_returns) - 1)\n",
    "\n",
    "    cov_matrix = np.cov(stock_returns, sp500_returns, ddof=1)    # Calcular covarianza muestral\n",
    "    cov_stock_sp500 = cov_matrix[0, 1]                           # Covarianza entre la acción y S&P 500\n",
    "    var_sp500 = np.var(sp500_returns, ddof=1)                    # Varianza muestral del S&P 500\n",
    "    var_stock = np.var(stock_returns, ddof=1)                    # Varianza muestral de la acción\n",
    "    beta = cov_stock_sp500 / var_sp500                           # Beta de la acción             \n",
    "\n",
    "    # Calcular el retorno total de la acción\n",
    "    stock_initial_price = stock_adj_close.iloc[0]                # iloc[0] es el primer elemento\n",
    "    stock_final_price = stock_adj_close.iloc[-1]                 # iloc[-1] es el último elemento\n",
    "    stock_total_return = (stock_final_price / stock_initial_price) - 1\n",
    "\n",
    "    print(\"\\nAnálisis de\", ticker)\n",
    "    print(\"Covarianza muestral entre la acción y S&P 500:\", cov_stock_sp500)\n",
    "    print(\"Varianza muestral de S&P 500:\", var_sp500)\n",
    "    print(\"Varianza muestral de la acción:\", var_stock)\n",
    "    print(\"Beta de la acción:\", beta)\n",
    "    print(\"Retorno total de la acción:\", stock_total_return)\n",
    "\n",
    "\n",
    "start_date = '2014-04-10'\n",
    "end_date = '2024-04-10'\n",
    "\n",
    "beta('NKE', start_date, end_date)\n",
    "beta('DIS', start_date, end_date)\n",
    "beta('MSFT', start_date, end_date)\n",
    "beta('COST', start_date, end_date)\n",
    "beta('AMZN', start_date, end_date)\n",
    "beta('AAPL', start_date, end_date)\n",
    "beta('TSLA', start_date, end_date)\n",
    "beta('NFLX', start_date, end_date)\n",
    "beta('GOOGL', start_date, end_date)\n",
    "beta('SBUX', start_date, end_date)\n",
    "beta('KO', start_date, end_date)\n"
   ]
  },
  {
   "cell_type": "code",
   "execution_count": 5,
   "metadata": {},
   "outputs": [
    {
     "name": "stderr",
     "output_type": "stream",
     "text": [
      "[*********************100%%**********************]  1 of 1 completed\n",
      "[*********************100%%**********************]  1 of 1 completed\n",
      "[*********************100%%**********************]  1 of 1 completed\n",
      "[*********************100%%**********************]  1 of 1 completed\n",
      "[*********************100%%**********************]  1 of 1 completed\n",
      "[*********************100%%**********************]  1 of 1 completed\n",
      "[*********************100%%**********************]  1 of 1 completed\n",
      "[*********************100%%**********************]  1 of 1 completed\n",
      "[*********************100%%**********************]  1 of 1 completed\n",
      "[*********************100%%**********************]  1 of 1 completed"
     ]
    },
    {
     "name": "stdout",
     "output_type": "stream",
     "text": [
      "\n",
      "Análisis de: NKE\n",
      "Covarianza muestral entre NKE y S&P 500: 0.0001286777052378674\n",
      "Varianza muestral de S&P 500: 0.0001244647742401509\n",
      "Varianza muestral de NKE : 0.00032961499695751144\n",
      "Beta de NKE : 1.0338483801817515\n",
      "Retorno total de NKE : 1.8058263953833844\n",
      "\n",
      "Análisis de: DIS\n",
      "Covarianza muestral entre DIS y S&P 500: 0.00012407966554789875\n",
      "Varianza muestral de S&P 500: 0.0001244647742401509\n",
      "Varianza muestral de DIS : 0.0002976647114347027\n",
      "Beta de DIS : 0.9969058820489314\n",
      "Retorno total de DIS : 0.6591663181224316\n",
      "\n",
      "Análisis de: MSFT\n",
      "Covarianza muestral entre MSFT y S&P 500: 0.000150684117430239\n",
      "Varianza muestral de S&P 500: 0.0001244647742401509\n",
      "Varianza muestral de MSFT : 0.0002889201190643332\n",
      "Beta de MSFT : 1.2106567368169463\n",
      "Retorno total de MSFT : 11.789586831918584\n",
      "\n",
      "Análisis de: COST\n",
      "Covarianza muestral entre COST y S&P 500: 9.017351875214071e-05\n",
      "Varianza muestral de S&P 500: 0.0001244647742401509\n",
      "Varianza muestral de COST : 0.00018021270968418313\n",
      "Beta de COST : 0.7244902768887341\n",
      "Retorno total de COST : 6.947704602846746\n"
     ]
    },
    {
     "name": "stderr",
     "output_type": "stream",
     "text": [
      "\n",
      "[*********************100%%**********************]  1 of 1 completed\n",
      "[*********************100%%**********************]  1 of 1 completed\n",
      "[*********************100%%**********************]  1 of 1 completed\n",
      "[*********************100%%**********************]  1 of 1 completed\n",
      "[*********************100%%**********************]  1 of 1 completed\n",
      "[*********************100%%**********************]  1 of 1 completed"
     ]
    },
    {
     "name": "stdout",
     "output_type": "stream",
     "text": [
      "\n",
      "Análisis de: AMZN\n",
      "Covarianza muestral entre AMZN y S&P 500: 0.0001419457350961848\n",
      "Varianza muestral de S&P 500: 0.0001244647742401509\n",
      "Varianza muestral de AMZN : 0.0004308843288450914\n",
      "Beta de AMZN : 1.1404490624978352\n",
      "Retorno total de AMZN : 10.710131851915742\n",
      "\n",
      "Análisis de: AAPL\n",
      "Covarianza muestral entre AAPL y S&P 500: 0.00014885107318145385\n",
      "Varianza muestral de S&P 500: 0.0001244647742401509\n",
      "Varianza muestral de AAPL : 0.0003185985713307458\n",
      "Beta de AAPL : 1.1959293228962142\n",
      "Retorno total de AAPL : 9.303341045021178\n",
      "\n",
      "Análisis de: TSLA\n",
      "Covarianza muestral entre TSLA y S&P 500: 0.0001795752841168005\n",
      "Varianza muestral de S&P 500: 0.0001244647742401509\n",
      "Varianza muestral de TSLA : 0.0012124843235088354\n",
      "Beta de TSLA : 1.4427799770103273\n",
      "Retorno total de TSLA : 11.993780263243808\n",
      "\n",
      "Análisis de: NFLX\n",
      "Covarianza muestral entre NFLX y S&P 500: 0.00014626430503904912\n",
      "Varianza muestral de S&P 500: 0.0001244647742401509\n",
      "Varianza muestral de NFLX : 0.0007780210337001872\n",
      "Beta de NFLX : 1.1751461884053773\n",
      "Retorno total de NFLX : 11.92803241010164\n"
     ]
    },
    {
     "name": "stderr",
     "output_type": "stream",
     "text": [
      "\n",
      "[*********************100%%**********************]  1 of 1 completed\n",
      "[*********************100%%**********************]  1 of 1 completed\n",
      "[*********************100%%**********************]  1 of 1 completed\n",
      "[*********************100%%**********************]  1 of 1 completed\n",
      "[*********************100%%**********************]  1 of 1 completed\n",
      "[*********************100%%**********************]  1 of 1 completed"
     ]
    },
    {
     "name": "stdout",
     "output_type": "stream",
     "text": [
      "\n",
      "Análisis de: GOOGL\n",
      "Covarianza muestral entre GOOGL y S&P 500: 0.00014272786603063034\n",
      "Varianza muestral de S&P 500: 0.0001244647742401509\n",
      "Varianza muestral de GOOGL : 0.0003102923249367497\n",
      "Beta de GOOGL : 1.146733016646472\n",
      "Retorno total de GOOGL : 4.729023838689983\n",
      "\n",
      "Análisis de: SBUX\n",
      "Covarianza muestral entre SBUX y S&P 500: 0.00012458452809866998\n",
      "Varianza muestral de S&P 500: 0.0001244647742401509\n",
      "Varianza muestral de SBUX : 0.0002684295536357684\n",
      "Beta de SBUX : 1.0009621506104853\n",
      "Retorno total de SBUX : 1.9883000090381984\n",
      "\n",
      "Análisis de: KO\n",
      "Covarianza muestral entre KO y S&P 500: 7.567698761986967e-05\n",
      "Varianza muestral de S&P 500: 0.0001244647742401509\n",
      "Varianza muestral de KO : 0.0001270809381960258\n",
      "Beta de KO : 0.6080193217870085\n",
      "Retorno total de KO : 1.109438535152043\n"
     ]
    },
    {
     "name": "stderr",
     "output_type": "stream",
     "text": [
      "\n"
     ]
    }
   ],
   "source": [
    "import yfinance as yf\n",
    "import numpy as np\n",
    "\n",
    "def beta(ticker, start_date, end_date):\n",
    "    # Descargar datos de la acción y S&P 500\n",
    "    stock = yf.download(ticker, start=start_date, end=end_date)\n",
    "    sp500 = yf.download('^GSPC', start=start_date, end=end_date)\n",
    "\n",
    "    # obtener el adj. close de la acción\n",
    "    stock_adj_close = stock['Adj Close']\n",
    "    sp500_adj_close = sp500['Adj Close']\n",
    "\n",
    "    # Alinear las fechas de ambos DataFrames usando precios ajustados\n",
    "    data_frame = stock_adj_close.align(sp500_adj_close, join='inner')\n",
    "\n",
    "    # Acceder correctamente a las columnas alineadas\n",
    "    stock_prices = data_frame[0]  # Precios ajustados de la acción\n",
    "    sp500_prices = data_frame[1]  # Precios ajustados de S&P 500\n",
    "\n",
    "    # Calcular rendimientos: (P_t+1 / P_t) - 1\n",
    "    stock_returns = (stock_prices[1:].values / stock_prices[:-1].values) - 1\n",
    "    sp500_returns = (sp500_prices[1:].values / sp500_prices[:-1].values) - 1\n",
    "\n",
    "    cov_matrix = np.cov(stock_returns, sp500_returns, ddof=1)    # Calcular covarianza muestral\n",
    "    cov_stock_sp500 = cov_matrix[0, 1]                           # Covarianza entre la acción y S&P 500\n",
    "    var_sp500 = np.var(sp500_returns, ddof=1)                    # Varianza muestral del S&P 500\n",
    "    var_stock = np.var(stock_returns, ddof=1)                    # Varianza muestral de la acción\n",
    "    beta_value = cov_stock_sp500 / var_sp500                     # Beta de la acción             \n",
    "\n",
    "    # Calcular el retorno total de la acción\n",
    "    stock_initial_price = stock_adj_close.iloc[0]                # iloc[0] es el primer elemento\n",
    "    stock_final_price = stock_adj_close.iloc[-1]                 # iloc[-1] es el último elemento\n",
    "    stock_total_return = (stock_final_price / stock_initial_price) - 1\n",
    "\n",
    "    print(\"\\nAnálisis de:\", ticker)\n",
    "    print(\"Covarianza muestral entre\", ticker , \"y S&P 500:\", cov_stock_sp500)\n",
    "    print(\"Varianza muestral de S&P 500:\", var_sp500)\n",
    "    print(\"Varianza muestral de\",  ticker, \":\", var_stock)\n",
    "    print(\"Beta de\",  ticker, \":\", beta_value)\n",
    "    print(\"Retorno total de\",  ticker, \":\", stock_total_return)\n",
    "\n",
    "    return {\n",
    "        \"ticker\": ticker,\n",
    "        \"cov_stock_sp500\": cov_stock_sp500,\n",
    "        \"var_sp500\": var_sp500,\n",
    "        \"var_stock\": var_stock,\n",
    "        \"beta\": beta_value,\n",
    "        \"stock_total_return\": stock_total_return\n",
    "    }\n",
    "\n",
    "start_date = '2014-04-10'\n",
    "end_date = '2024-04-10'\n",
    "\n",
    "results = []\n",
    "tickers = ['NKE', 'DIS', 'MSFT', 'COST', 'AMZN', 'AAPL', 'TSLA', 'NFLX', 'GOOGL', 'SBUX', 'KO']\n",
    "\n",
    "for ticker in tickers:\n",
    "    result = beta(ticker, start_date, end_date)\n",
    "    results.append(result)"
   ]
  },
  {
   "cell_type": "code",
   "execution_count": 91,
   "metadata": {},
   "outputs": [
    {
     "name": "stderr",
     "output_type": "stream",
     "text": [
      "C:\\Users\\herie\\AppData\\Roaming\\Python\\Python312\\site-packages\\IPython\\core\\pylabtools.py:152: UserWarning: Glyph 128202 (\\N{BAR CHART}) missing from current font.\n",
      "  fig.canvas.print_figure(bytes_io, **kw)\n",
      "C:\\Users\\herie\\AppData\\Roaming\\Python\\Python312\\site-packages\\IPython\\core\\pylabtools.py:152: UserWarning: Glyph 128269 (\\N{LEFT-POINTING MAGNIFYING GLASS}) missing from current font.\n",
      "  fig.canvas.print_figure(bytes_io, **kw)\n",
      "C:\\Users\\herie\\AppData\\Roaming\\Python\\Python312\\site-packages\\IPython\\core\\pylabtools.py:152: UserWarning: Glyph 128200 (\\N{CHART WITH UPWARDS TREND}) missing from current font.\n",
      "  fig.canvas.print_figure(bytes_io, **kw)\n",
      "C:\\Users\\herie\\AppData\\Roaming\\Python\\Python312\\site-packages\\IPython\\core\\pylabtools.py:152: UserWarning: Glyph 127752 (\\N{RAINBOW}) missing from current font.\n",
      "  fig.canvas.print_figure(bytes_io, **kw)\n"
     ]
    },
    {
     "data": {
      "image/png": "[encoded data removed]",
      "text/plain": [
       "<Figure size 1200x800 with 1 Axes>"
      ]
     },
     "metadata": {},
     "output_type": "display_data"
    }
   ],
   "source": [
    "import matplotlib.pyplot as plt\n",
    "import seaborn as sns\n",
    "from scipy.stats import linregress\n",
    "\n",
    "# Configure the style of seaborn\n",
    "sns.set(style=\"whitegrid\")\n",
    "\n",
    "# Create a pastel color palette\n",
    "pastel_colors = sns.color_palette(\"pastel\", len(tickers))\n",
    "\n",
    "# Extract returns and betas\n",
    "returns = [result[\"stock_total_return\"] for result in results]\n",
    "betas = [result[\"beta\"] for result in results]\n",
    "\n",
    "# Perform linear regression\n",
    "slope, intercept, r_value, p_value, std_err = linregress(returns, betas)\n",
    "line = [slope * x + intercept for x in returns]\n",
    "\n",
    "# Create the plot\n",
    "plt.figure(figsize=(12, 8))\n",
    "plt.scatter(returns, betas, color=pastel_colors, s=100, edgecolor='k', alpha=0.9, label='Datos', marker='o')\n",
    "plt.plot(returns, line, color='salmon', linewidth=2, label=f'Regresión Lineal (R²={r_value**2:.2f})')\n",
    "\n",
    "# Title and labels with a cute touch\n",
    "plt.title('📈 Beta vs Retorno Total 🌈', fontsize=20, fontweight='bold', color='purple')\n",
    "plt.xlabel('Retorno Total 📊', fontsize=16)\n",
    "plt.ylabel('Beta 🔍', fontsize=16)\n",
    "plt.legend(loc='upper left')\n",
    "plt.grid(True, linestyle='--', alpha=0.5)\n",
    "\n",
    "# Add labels to points\n",
    "for i, ticker in enumerate(tickers):\n",
    "    plt.annotate(ticker, (returns[i], betas[i]), fontsize=12, ha='right', color=pastel_colors[i], fontweight='bold')\n",
    "\n",
    "# Add a cute background color\n",
    "plt.gca().set_facecolor('#f7f9fc')\n",
    "\n",
    "plt.show()"
   ]
  }
 ],
 "metadata": {
  "kernelspec": {
   "display_name": "Python 3",
   "language": "python",
   "name": "python3"
  },
  "language_info": {
   "codemirror_mode": {
    "name": "ipython",
    "version": 3
   },
   "file_extension": ".py",
   "mimetype": "text/x-python",
   "name": "python",
   "nbconvert_exporter": "python",
   "pygments_lexer": "ipython3",
   "version": "3.12.1"
  }
 },
 "nbformat": 4,
 "nbformat_minor": 2
}
