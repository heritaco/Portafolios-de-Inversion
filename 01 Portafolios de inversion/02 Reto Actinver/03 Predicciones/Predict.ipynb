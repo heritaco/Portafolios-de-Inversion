{
 "cells": [
  {
   "cell_type": "code",
   "execution_count": 1,
   "metadata": {},
   "outputs": [],
   "source": [
    "from predict import *"
   ]
  },
  {
   "cell_type": "code",
   "execution_count": 2,
   "metadata": {},
   "outputs": [],
   "source": [
    "stock = \"TSLA\""
   ]
  },
  {
   "cell_type": "markdown",
   "metadata": {},
   "source": [
    "Es el $AVGO$ de ayer, hoy subió, voy a ver que tan verdadero es."
   ]
  },
  {
   "cell_type": "code",
   "execution_count": 3,
   "metadata": {},
   "outputs": [
    {
     "name": "stdout",
     "output_type": "stream",
     "text": [
      "Start Date: 2010-06-29 04:00:00+00:00\n",
      "Prediction: Down\n",
      "Precision Score: 0.8205128205128205\n"
     ]
    },
    {
     "data": {
      "text/plain": [
       "(0, 0.8205128205128205)"
      ]
     },
     "execution_count": 3,
     "metadata": {},
     "output_type": "execute_result"
    }
   ],
   "source": [
    "prediction_five_days(stock)"
   ]
  },
  {
   "cell_type": "code",
   "execution_count": 4,
   "metadata": {},
   "outputs": [
    {
     "name": "stdout",
     "output_type": "stream",
     "text": [
      "Start Date: 2010-06-29 04:00:00+00:00\n",
      "Tomorrow's Prediction: Up\n",
      "Precision Score: 0.6666666666666666\n"
     ]
    },
    {
     "data": {
      "text/plain": [
       "(1, 0.6666666666666666)"
      ]
     },
     "execution_count": 4,
     "metadata": {},
     "output_type": "execute_result"
    }
   ],
   "source": [
    "prediction_tomorrow_1(stock)"
   ]
  },
  {
   "cell_type": "code",
   "execution_count": 5,
   "metadata": {},
   "outputs": [
    {
     "name": "stdout",
     "output_type": "stream",
     "text": [
      "Start Date: 2010-06-29 04:00:00+00:00\n",
      "Tomorrow's Prediction: Up\n",
      "Precision Score: 0.5132275132275133\n"
     ]
    },
    {
     "data": {
      "text/plain": [
       "(1, 0.5132275132275133)"
      ]
     },
     "execution_count": 5,
     "metadata": {},
     "output_type": "execute_result"
    }
   ],
   "source": [
    "prediction_tomorrow_2(stock)"
   ]
  }
 ],
 "metadata": {
  "kernelspec": {
   "display_name": "Python 3",
   "language": "python",
   "name": "python3"
  },
  "language_info": {
   "codemirror_mode": {
    "name": "ipython",
    "version": 3
   },
   "file_extension": ".py",
   "mimetype": "text/x-python",
   "name": "python",
   "nbconvert_exporter": "python",
   "pygments_lexer": "ipython3",
   "version": "3.12.1"
  }
 },
 "nbformat": 4,
 "nbformat_minor": 2
}
