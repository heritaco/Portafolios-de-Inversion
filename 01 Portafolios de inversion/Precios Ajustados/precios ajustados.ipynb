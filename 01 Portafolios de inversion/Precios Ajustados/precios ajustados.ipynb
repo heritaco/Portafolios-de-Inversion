{
 "cells": [
  {
   "cell_type": "markdown",
   "metadata": {},
   "source": [
    "Importamos las librerias:"
   ]
  },
  {
   "cell_type": "code",
   "execution_count": 1,
   "metadata": {},
   "outputs": [],
   "source": [
    "# pip install yfinance\n",
    "import yfinance as yf\n",
    "# pip install pandas\n",
    "import pandas as pd"
   ]
  },
  {
   "cell_type": "markdown",
   "metadata": {},
   "source": [
    "Así se ven los datos descargados para un activo:"
   ]
  },
  {
   "cell_type": "code",
   "execution_count": 2,
   "metadata": {},
   "outputs": [
    {
     "name": "stderr",
     "output_type": "stream",
     "text": [
      "[*********************100%%**********************]  1 of 1 completed\n"
     ]
    },
    {
     "data": {
      "text/html": [
       "<div>\n",
       "<style scoped>\n",
       "    .dataframe tbody tr th:only-of-type {\n",
       "        vertical-align: middle;\n",
       "    }\n",
       "\n",
       "    .dataframe tbody tr th {\n",
       "        vertical-align: top;\n",
       "    }\n",
       "\n",
       "    .dataframe thead th {\n",
       "        text-align: right;\n",
       "    }\n",
       "</style>\n",
       "<table border=\"1\" class=\"dataframe\">\n",
       "  <thead>\n",
       "    <tr style=\"text-align: right;\">\n",
       "      <th></th>\n",
       "      <th>Open</th>\n",
       "      <th>High</th>\n",
       "      <th>Low</th>\n",
       "      <th>Close</th>\n",
       "      <th>Adj Close</th>\n",
       "      <th>Volume</th>\n",
       "    </tr>\n",
       "    <tr>\n",
       "      <th>Date</th>\n",
       "      <th></th>\n",
       "      <th></th>\n",
       "      <th></th>\n",
       "      <th></th>\n",
       "      <th></th>\n",
       "      <th></th>\n",
       "    </tr>\n",
       "  </thead>\n",
       "  <tbody>\n",
       "    <tr>\n",
       "      <th>2014-10-20</th>\n",
       "      <td>24.580000</td>\n",
       "      <td>24.990000</td>\n",
       "      <td>24.555000</td>\n",
       "      <td>24.940001</td>\n",
       "      <td>22.144411</td>\n",
       "      <td>310069200</td>\n",
       "    </tr>\n",
       "    <tr>\n",
       "      <th>2014-10-21</th>\n",
       "      <td>25.754999</td>\n",
       "      <td>25.754999</td>\n",
       "      <td>25.317499</td>\n",
       "      <td>25.617500</td>\n",
       "      <td>22.745964</td>\n",
       "      <td>378495600</td>\n",
       "    </tr>\n",
       "    <tr>\n",
       "      <th>2014-10-22</th>\n",
       "      <td>25.709999</td>\n",
       "      <td>26.027500</td>\n",
       "      <td>25.650000</td>\n",
       "      <td>25.747499</td>\n",
       "      <td>22.861391</td>\n",
       "      <td>273052400</td>\n",
       "    </tr>\n",
       "    <tr>\n",
       "      <th>2014-10-23</th>\n",
       "      <td>26.020000</td>\n",
       "      <td>26.262501</td>\n",
       "      <td>25.907499</td>\n",
       "      <td>26.207500</td>\n",
       "      <td>23.269831</td>\n",
       "      <td>284298800</td>\n",
       "    </tr>\n",
       "    <tr>\n",
       "      <th>2014-10-24</th>\n",
       "      <td>26.295000</td>\n",
       "      <td>26.372499</td>\n",
       "      <td>26.132500</td>\n",
       "      <td>26.305000</td>\n",
       "      <td>23.356403</td>\n",
       "      <td>188215600</td>\n",
       "    </tr>\n",
       "  </tbody>\n",
       "</table>\n",
       "</div>"
      ],
      "text/plain": [
       "                 Open       High        Low      Close  Adj Close     Volume\n",
       "Date                                                                        \n",
       "2014-10-20  24.580000  24.990000  24.555000  24.940001  22.144411  310069200\n",
       "2014-10-21  25.754999  25.754999  25.317499  25.617500  22.745964  378495600\n",
       "2014-10-22  25.709999  26.027500  25.650000  25.747499  22.861391  273052400\n",
       "2014-10-23  26.020000  26.262501  25.907499  26.207500  23.269831  284298800\n",
       "2014-10-24  26.295000  26.372499  26.132500  26.305000  23.356403  188215600"
      ]
     },
     "execution_count": 2,
     "metadata": {},
     "output_type": "execute_result"
    }
   ],
   "source": [
    "stock = yf.download('AAPL', start='2014-10-18', end='2024-10-18')\n",
    "stock.head()"
   ]
  },
  {
   "cell_type": "markdown",
   "metadata": {},
   "source": [
    "Nos importan son los precios ajustados, entonces solo agarramos a esos"
   ]
  },
  {
   "cell_type": "code",
   "execution_count": 3,
   "metadata": {},
   "outputs": [
    {
     "data": {
      "text/plain": [
       "Date\n",
       "2014-10-20    22.144411\n",
       "2014-10-21    22.745964\n",
       "2014-10-22    22.861391\n",
       "2014-10-23    23.269831\n",
       "2014-10-24    23.356403\n",
       "Name: Adj Close, dtype: float64"
      ]
     },
     "execution_count": 3,
     "metadata": {},
     "output_type": "execute_result"
    }
   ],
   "source": [
    "stock['Adj Close'].head()"
   ]
  },
  {
   "cell_type": "markdown",
   "metadata": {},
   "source": [
    "Para no ir haciendo uno por uno hacemos un ciclo y los pasamos a Excel :)"
   ]
  },
  {
   "cell_type": "code",
   "execution_count": 4,
   "metadata": {},
   "outputs": [],
   "source": [
    "# Lista de tickers\n",
    "tickers = ['NKE', 'DIS', 'MSFT', 'COST', 'AMZN', 'AAPL', 'TSLA', 'NFLX', 'GOOGL', 'SBUX', 'KO', 'AAPL', 'COST']\n",
    "\n",
    "# Fechas de inicio y fin\n",
    "start_date = '2014-10-18'\n",
    "end_date = '2024-10-18'"
   ]
  },
  {
   "cell_type": "code",
   "execution_count": 5,
   "metadata": {},
   "outputs": [
    {
     "name": "stderr",
     "output_type": "stream",
     "text": [
      "[*********************100%%**********************]  1 of 1 completed\n",
      "[*********************100%%**********************]  1 of 1 completed\n",
      "[*********************100%%**********************]  1 of 1 completed\n",
      "[*********************100%%**********************]  1 of 1 completed\n",
      "[*********************100%%**********************]  1 of 1 completed\n",
      "[*********************100%%**********************]  1 of 1 completed\n",
      "[*********************100%%**********************]  1 of 1 completed\n",
      "[*********************100%%**********************]  1 of 1 completed\n",
      "[*********************100%%**********************]  1 of 1 completed\n",
      "[*********************100%%**********************]  1 of 1 completed\n",
      "[*********************100%%**********************]  1 of 1 completed\n",
      "[*********************100%%**********************]  1 of 1 completed\n",
      "[*********************100%%**********************]  1 of 1 completed\n"
     ]
    }
   ],
   "source": [
    "df = pd.DataFrame()     # Creamos una tabla vacía\n",
    "\n",
    "for ticker in tickers:\n",
    "    stock = yf.download(ticker, start=start_date, end=end_date) # Descargamps los datos de Yahoo Finance\n",
    "    stock_adj_close = stock['Adj Close']            # Seleccionamos la columna Adj Close\n",
    "    stock_adj_close.name = ticker                   # Renombramos la columna con el ticker\n",
    "    df = pd.concat([df, stock_adj_close], axis=1)   # Concatenamos la columna a la tabla\n",
    "\n",
    "df.to_excel('precios_ajustados.xlsx')               # Guardamos el la tabla en Excel"
   ]
  }
 ],
 "metadata": {
  "kernelspec": {
   "display_name": "Python 3",
   "language": "python",
   "name": "python3"
  },
  "language_info": {
   "codemirror_mode": {
    "name": "ipython",
    "version": 3
   },
   "file_extension": ".py",
   "mimetype": "text/x-python",
   "name": "python",
   "nbconvert_exporter": "python",
   "pygments_lexer": "ipython3",
   "version": "3.12.1"
  }
 },
 "nbformat": 4,
 "nbformat_minor": 2
}
