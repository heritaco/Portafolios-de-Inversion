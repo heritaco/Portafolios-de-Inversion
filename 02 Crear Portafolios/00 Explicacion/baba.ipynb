{
 "cells": [
  {
   "cell_type": "code",
   "execution_count": null,
   "metadata": {},
   "outputs": [
    {
     "name": "stderr",
     "output_type": "stream",
     "text": [
      "[*********************100%%**********************]  2 of 2 completed\n"
     ]
    },
    {
     "ename": "TypeError",
     "evalue": "cannot unpack non-iterable EfficientFrontier object",
     "output_type": "error",
     "traceback": [
      "\u001b[1;31m---------------------------------------------------------------------------\u001b[0m",
      "\u001b[1;31mTypeError\u001b[0m                                 Traceback (most recent call last)",
      "Cell \u001b[1;32mIn[1], line 25\u001b[0m\n\u001b[0;32m     22\u001b[0m cov_matrix \u001b[38;5;241m=\u001b[39m returns\u001b[38;5;241m.\u001b[39mcov()\n\u001b[0;32m     24\u001b[0m \u001b[38;5;66;03m# Generate efficient frontier\u001b[39;00m\n\u001b[1;32m---> 25\u001b[0m results, weights_record \u001b[38;5;241m=\u001b[39m EfficientFrontier(mean_returns, cov_matrix)\n\u001b[0;32m     27\u001b[0m \u001b[38;5;66;03m# Plot efficient frontier\u001b[39;00m\n\u001b[0;32m     28\u001b[0m trace \u001b[38;5;241m=\u001b[39m go\u001b[38;5;241m.\u001b[39mScatter(\n\u001b[0;32m     29\u001b[0m     x\u001b[38;5;241m=\u001b[39mresults[\u001b[38;5;241m0\u001b[39m],\n\u001b[0;32m     30\u001b[0m     y\u001b[38;5;241m=\u001b[39mresults[\u001b[38;5;241m1\u001b[39m],\n\u001b[1;32m   (...)\u001b[0m\n\u001b[0;32m     33\u001b[0m     text\u001b[38;5;241m=\u001b[39m[\u001b[38;5;124mf\u001b[39m\u001b[38;5;124m'\u001b[39m\u001b[38;5;124mWeights: \u001b[39m\u001b[38;5;132;01m{\u001b[39;00mw\u001b[38;5;132;01m}\u001b[39;00m\u001b[38;5;124m'\u001b[39m \u001b[38;5;28;01mfor\u001b[39;00m w \u001b[38;5;129;01min\u001b[39;00m weights_record]\n\u001b[0;32m     34\u001b[0m )\n",
      "\u001b[1;31mTypeError\u001b[0m: cannot unpack non-iterable EfficientFrontier object"
     ]
    }
   ],
   "source": [
    "import numpy as np\n",
    "import pandas as pd\n",
    "from scipy.optimize import minimize\n",
    "from pypfopt.efficient_frontier import EfficientFrontier\n",
    "import yfinance as yf\n",
    "\n",
    "import matplotlib.pyplot as plt\n",
    "import plotly.graph_objs as go\n",
    "import plotly.offline as pyo\n",
    "\n",
    "# Fetch data from Yahoo Finance\n",
    "tickers = ['AAPL', 'MSFT']\n",
    "data = yf.download(tickers, start='2020-01-01', end='2023-01-01')['Adj Close']\n",
    "\n",
    "# Calculate daily returns\n",
    "returns = data.pct_change().dropna()\n",
    "\n",
    "# Calculate mean returns and covariance matrix\n",
    "mu = expected_returns.mean_historical_return(df, frequency=days)\n",
    "s = risk_models.sample_cov(df, frequency=days)\n",
    "\n",
    "# Generate efficient frontier\n",
    "results, weights_record = EfficientFrontier(mu, s)\n",
    "\n",
    "# Plot efficient frontier\n",
    "trace = go.Scatter(\n",
    "    x=results[0],\n",
    "    y=results[1],\n",
    "    mode='markers',\n",
    "    marker=dict(size=5, color=results[2], colorscale='Viridis', showscale=True),\n",
    "    text=[f'Weights: {w}' for w in weights_record]\n",
    ")\n",
    "\n",
    "layout = go.Layout(\n",
    "    title='Efficient Frontier',\n",
    "    xaxis=dict(title='Volatility'),\n",
    "    yaxis=dict(title='Return'),\n",
    "    hovermode='closest'\n",
    ")\n",
    "\n",
    "fig = go.Figure(data=[trace], layout=layout)\n",
    "pyo.plot(fig, filename='efficient_frontier.html')\n",
    "\n",
    "# Calculate the efficient frontier using PyPortfolioOpt\n",
    "ef = EfficientFrontier(mean_returns, cov_matrix)\n",
    "weights = ef.max_sharpe()\n",
    "cleaned_weights = ef.clean_weights()\n",
    "\n",
    "# Calculate the performance of the optimized portfolio\n",
    "performance = ef.portfolio_performance(verbose=True)\n",
    "\n",
    "# Add the optimized portfolio to the plot\n",
    "optimized_std, optimized_return, _ = performance\n",
    "trace_optimized = go.Scatter(\n",
    "    x=[optimized_std],\n",
    "    y=[optimized_return],\n",
    "    mode='markers',\n",
    "    marker=dict(size=10, color='red'),\n",
    "    text=[f'Optimized Weights: {cleaned_weights}'],\n",
    "    name='Optimized Portfolio'\n",
    ")\n",
    "\n",
    "fig.add_trace(trace_optimized)\n",
    "pyo.plot(fig, filename='efficient_frontier_with_optimized.html')"
   ]
  }
 ],
 "metadata": {
  "kernelspec": {
   "display_name": "Python 3",
   "language": "python",
   "name": "python3"
  },
  "language_info": {
   "codemirror_mode": {
    "name": "ipython",
    "version": 3
   },
   "file_extension": ".py",
   "mimetype": "text/x-python",
   "name": "python",
   "nbconvert_exporter": "python",
   "pygments_lexer": "ipython3",
   "version": "3.12.1"
  }
 },
 "nbformat": 4,
 "nbformat_minor": 2
}
